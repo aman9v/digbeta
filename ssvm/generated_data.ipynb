{
 "cells": [
  {
   "cell_type": "markdown",
   "metadata": {},
   "source": [
    "# Experiment on Generated Data"
   ]
  },
  {
   "cell_type": "markdown",
   "metadata": {},
   "source": [
    "The goal of this notebook is to design an experiment to check if multi-user and multi-label (which is what our dataset looks like) is a problem for SSVM.   \n",
    "To chieve this goal,\n",
    "1. a trained SSVM $\\mathcal{M}_0$ (on Glasgow dataset $\\mathcal{D}_0$) is used to generate a single user, single label dataset $\\mathcal{D}_1$. Concretely, we predict a trajectory for every query $(p, l), p \\in \\mathcal{P}, l \\in \\{3,4,5,6,7\\}$ use $\\mathcal{M}_0$, where $\\mathcal{P}$ is from $\\mathcal{D}_0$.\n",
    "1. train a new SSVM $\\mathcal{M}_1$ using features (POI and transition features) computed from $\\mathcal{D}_0$ and labels from $\\mathcal{D}_1$, and check the performance on training set (i.e., $\\mathcal{D}_1$).\n",
    "1. perform leave-one-out cross validation on $\\mathcal{D}_1$. Hyperparameter (i.e., $C$) is determined by trying some numbers when holding one label in $\\mathcal{D}_1$ as test example and using all other labels in $\\mathcal{D}_1$ as training set (POI and transition features are computed from $\\mathcal{D}_0$), then fix the $C$ for all leave-one-out cross validations.\n",
    "1. we noted that POI and transition features are computed from $\\mathcal{D}_0$ and labels are from $\\mathcal{D}_1$, as we can't compute the duration related features (i.e., avgDuration for POI, and log transition probability between discretized duration buckets) on $\\mathcal{D}_1$ as no duration information is generated. So we try to disable duration related features one-by-one, and perform step $3$ to check whether duration related features help.\n",
    "1. if duration related features don't help, we can turn off them and then compute POI and transition features from $\\mathcal{D}_1$ and use labels in $\\mathcal{D}_1$, then we want to compare the performance of RankSVM and SSVM on $\\mathcal{D}_1$ (using leave-one-out cross validation), if SSVM performans better than RankSVM, it means multi-user and multi-label in our dataset is a problem for SSVM."
   ]
  },
  {
   "cell_type": "code",
   "execution_count": null,
   "metadata": {
    "collapsed": false
   },
   "outputs": [],
   "source": [
    "%matplotlib inline\n",
    "import matplotlib.pyplot as plt\n",
    "\n",
    "import os, pickle, random\n",
    "import pandas as pd\n",
    "import numpy as np\n",
    "import cvxopt"
   ]
  },
  {
   "cell_type": "code",
   "execution_count": null,
   "metadata": {
    "collapsed": true
   },
   "outputs": [],
   "source": [
    "random.seed(1234554321)\n",
    "np.random.seed(123456789)\n",
    "cvxopt.base.setseed(123456789)"
   ]
  },
  {
   "cell_type": "markdown",
   "metadata": {},
   "source": [
    "Run notebook ```ssvm.ipynb```."
   ]
  },
  {
   "cell_type": "code",
   "execution_count": null,
   "metadata": {
    "collapsed": false
   },
   "outputs": [],
   "source": [
    "%run 'ssvm.ipynb'"
   ]
  },
  {
   "cell_type": "markdown",
   "metadata": {},
   "source": [
    "## Step 1 - Generate new dataset"
   ]
  },
  {
   "cell_type": "markdown",
   "metadata": {},
   "source": [
    "Load trained parameters and prediction results"
   ]
  },
  {
   "cell_type": "code",
   "execution_count": null,
   "metadata": {
    "collapsed": true
   },
   "outputs": [],
   "source": [
    "dump_variables = True"
   ]
  },
  {
   "cell_type": "code",
   "execution_count": null,
   "metadata": {
    "collapsed": true
   },
   "outputs": [],
   "source": [
    "fname = os.path.join(data_dir, 'ssvm-listViterbi-Glas.pkl')"
   ]
  },
  {
   "cell_type": "code",
   "execution_count": null,
   "metadata": {
    "collapsed": true
   },
   "outputs": [],
   "source": [
    "ssvm_lv = pickle.load(open(fname, 'rb'))  # a dict: query -> {'PRED': trajectory, 'C': ssvm-c, 'W': model_params}"
   ]
  },
  {
   "cell_type": "code",
   "execution_count": null,
   "metadata": {
    "collapsed": true
   },
   "outputs": [],
   "source": [
    "query = (1, 3)\n",
    "W = ssvm_lv[query]['W']"
   ]
  },
  {
   "cell_type": "code",
   "execution_count": null,
   "metadata": {
    "collapsed": false
   },
   "outputs": [],
   "source": [
    "trajid_set = set(trajid_set_all) - TRAJ_GROUP_DICT[query]\n",
    "poi_set = set()\n",
    "for tid in trajid_set: \n",
    "    if len(traj_dict[tid]) >= 2:\n",
    "        poi_set = poi_set | set(traj_dict[tid])\n",
    "poi_list = sorted(poi_set)\n",
    "n_states = len(poi_set)\n",
    "n_edge_features = 5\n",
    "n_node_features = (len(W) - n_states * n_states * n_edge_features) // n_states\n",
    "#print(len(W), n_states, n_node_features)\n",
    "unary_params = W[:n_states * n_node_features].reshape(n_states, n_node_features)\n",
    "pw_params = W[n_states * n_node_features:].reshape((n_states, n_states, n_edge_features))    \n",
    "\n",
    "poi_id_dict, poi_id_rdict = dict(), dict()\n",
    "for idx, poi in enumerate(poi_list):\n",
    "    poi_id_dict[poi] = idx\n",
    "    poi_id_rdict[idx] = poi\n",
    "    \n",
    "print('Finished.')"
   ]
  },
  {
   "cell_type": "markdown",
   "metadata": {},
   "source": [
    "Compute feature scaling parameters"
   ]
  },
  {
   "cell_type": "code",
   "execution_count": null,
   "metadata": {
    "collapsed": false
   },
   "outputs": [],
   "source": [
    "poi_info = calc_poi_info(sorted(trajid_set), traj_all, poi_all)\n",
    "\n",
    "traj_list = [traj_dict[k] for k in sorted(trajid_set) if len(traj_dict[k]) >= 2]\n",
    "node_features_list = Parallel(n_jobs=N_JOBS)\\\n",
    "                     (delayed(calc_node_features)\\\n",
    "                      (tr[0], len(tr), poi_list, poi_info.copy(), poi_clusters=POI_CLUSTERS, \\\n",
    "                       cats=POI_CAT_LIST, clusters=POI_CLUSTER_LIST) for tr in traj_list)\n",
    "edge_features = calc_edge_features(list(trajid_set), poi_list, traj_dict, poi_info.copy())\n",
    "fdim = node_features_list[0].shape\n",
    "X_node_all = np.vstack(node_features_list)\n",
    "scaler = MaxAbsScaler(copy=False)\n",
    "scaler.fit(X_node_all)\n",
    "\n",
    "# turn off duration related features\n",
    "#poi_info['avgDuration'] = 0.0\n",
    "#edge_features[:, :, 3] = LOG_ZERO\n",
    "\n",
    "print('Finished.')"
   ]
  },
  {
   "cell_type": "markdown",
   "metadata": {},
   "source": [
    "Generating trajectories"
   ]
  },
  {
   "cell_type": "code",
   "execution_count": null,
   "metadata": {
    "collapsed": false
   },
   "outputs": [],
   "source": [
    "lengthes = [3, 4, 5]#, 6, 7]\n",
    "fake_labels = []\n",
    "for poi in sorted(poi_list):\n",
    "    for L in lengthes:\n",
    "        X_node_test = calc_node_features(poi, L, poi_list, poi_info.copy(), poi_clusters=POI_CLUSTERS, \\\n",
    "                                         cats=POI_CAT_LIST, clusters=POI_CLUSTER_LIST)\n",
    "        X_node_test = scaler.transform(X_node_test)  # feature scaling\n",
    "        unary_features = X_node_test\n",
    "        pw_features = edge_features.copy()\n",
    "        y_pred = do_inference_listViterbi(poi_id_dict[poi], L, len(poi_set), \n",
    "                                          unary_params, pw_params, unary_features, pw_features)\n",
    "        fake_labels.append([poi_id_rdict[p] for p in y_pred])\n",
    "\n",
    "print('Finished.')"
   ]
  },
  {
   "cell_type": "markdown",
   "metadata": {},
   "source": [
    "## Step 2 - Train SSVM on generated dataset"
   ]
  },
  {
   "cell_type": "markdown",
   "metadata": {},
   "source": [
    "Computing scaling parameters and training features/labels"
   ]
  },
  {
   "cell_type": "code",
   "execution_count": null,
   "metadata": {
    "collapsed": false
   },
   "outputs": [],
   "source": [
    "def calc_train_data(train_labels, poi_list, poi_info, edge_features, poi_id_dict):\n",
    "    node_features_all = Parallel(n_jobs=N_JOBS)\\\n",
    "                        (delayed(calc_node_features)\\\n",
    "                         (tr[0], len(tr), poi_list, poi_info, poi_clusters=POI_CLUSTERS, \\\n",
    "                          cats=POI_CAT_LIST, clusters=POI_CLUSTER_LIST) for tr in train_labels)\n",
    "    fdim_train = node_features_all[0].shape\n",
    "    X_node_train = np.vstack(node_features_all)\n",
    "    scaler_train = MaxAbsScaler(copy=False)\n",
    "    X_node_train = scaler_train.fit_transform(X_node_train)\n",
    "    X_node_train = X_node_train.reshape(-1, fdim_train[0], fdim_train[1])\n",
    "    assert(len(train_labels) == X_node_train.shape[0])\n",
    "    X_train = [(X_node_train[k, :, :], edge_features.copy(), \n",
    "                (poi_id_dict[train_labels[k][0]], len(train_labels[k]))) for k in range(len(train_labels))]\n",
    "    y_train = [np.array([poi_id_dict[k] for k in tr]) for tr in train_labels]\n",
    "    assert(len(X_train) == len(y_train))\n",
    "    \n",
    "    return X_train, y_train, scaler_train"
   ]
  },
  {
   "cell_type": "markdown",
   "metadata": {},
   "source": [
    "Training on generated data"
   ]
  },
  {
   "cell_type": "code",
   "execution_count": null,
   "metadata": {
    "collapsed": false
   },
   "outputs": [],
   "source": [
    "def train_ssvm(X_train, y_train, C):\n",
    "    sm = MyModel(inference_fun=do_inference_listViterbi)\n",
    "    osssvm = OneSlackSSVM(model=sm, C=C, n_jobs=N_JOBS, verbose=0)\n",
    "    try:\n",
    "        osssvm.fit(X_train, y_train, initialize=True)\n",
    "        print('SSVM training finished.')\n",
    "    except:\n",
    "        sys.stderr.write('SSVM training FAILED.\\n')\n",
    "    return osssvm"
   ]
  },
  {
   "cell_type": "markdown",
   "metadata": {},
   "source": [
    "Plot the primal dual objective value curve"
   ]
  },
  {
   "cell_type": "code",
   "execution_count": null,
   "metadata": {
    "collapsed": false
   },
   "outputs": [],
   "source": [
    "def plot_obj_curve(ssvm):\n",
    "    plt.plot(ssvm.objective_curve_, label='dual')\n",
    "    plt.plot(ssvm.primal_objective_curve_, label='primal')\n",
    "    plt.legend()"
   ]
  },
  {
   "cell_type": "markdown",
   "metadata": {},
   "source": [
    "Make prediction"
   ]
  },
  {
   "cell_type": "code",
   "execution_count": null,
   "metadata": {
    "collapsed": false
   },
   "outputs": [],
   "source": [
    "def predict(ssvm, ps, L, poi_list, poi_info, edge_features, scaler_train, poi_id_dict, poi_id_rdict):\n",
    "    X_node_test = calc_node_features(ps, L, poi_list, poi_info, poi_clusters=POI_CLUSTERS, \n",
    "                                     cats=POI_CAT_LIST, clusters=POI_CLUSTER_LIST)\n",
    "    X_node_test = scaler_train.transform(X_node_test)\n",
    "    X_test = [(X_node_test, edge_features, (poi_id_dict[ps], L))]\n",
    "    y_hat = ssvm.predict(X_test)\n",
    "    return np.array([poi_id_rdict[p] for p in y_hat[0]])"
   ]
  },
  {
   "cell_type": "markdown",
   "metadata": {},
   "source": [
    "Compute evaluation metrics"
   ]
  },
  {
   "cell_type": "code",
   "execution_count": null,
   "metadata": {
    "collapsed": false
   },
   "outputs": [],
   "source": [
    "def evaluation(predictions):\n",
    "    F1_ssvm = []; pF1_ssvm = []; tau_ssvm = []\n",
    "    for key in sorted(predictions.keys()):\n",
    "        F1 = calc_F1(predictions[key]['REAL'], predictions[key]['PRED'])\n",
    "        pF1 = calc_pairsF1(predictions[key]['REAL'], predictions[key]['PRED'])\n",
    "        tau = calc_kendalltau(predictions[key]['REAL'], predictions[key]['PRED'])\n",
    "        F1_ssvm.append(F1); pF1_ssvm.append(pF1); tau_ssvm.append(tau)\n",
    "    F1_mean = np.mean(F1_ssvm); pF1_mean = np.mean(pF1_ssvm); tau_mean = np.mean(tau_ssvm)\n",
    "    print('SSVM: F1 (%.3f, %.3f), pairsF1 (%.3f, %.3f), Tau (%.3f, %.3f)' % \\\n",
    "          (F1_mean, np.std(F1_ssvm)/np.sqrt(len(F1_ssvm)), \\\n",
    "           pF1_mean, np.std(pF1_ssvm)/np.sqrt(len(pF1_ssvm)), \\\n",
    "           tau_mean, np.std(tau_ssvm)/np.sqrt(len(tau_ssvm))))\n",
    "    return F1_mean, pF1_mean, tau_mean"
   ]
  },
  {
   "cell_type": "markdown",
   "metadata": {},
   "source": [
    "Train on generated dataset"
   ]
  },
  {
   "cell_type": "code",
   "execution_count": null,
   "metadata": {
    "collapsed": true
   },
   "outputs": [],
   "source": [
    "C = 0.01"
   ]
  },
  {
   "cell_type": "code",
   "execution_count": null,
   "metadata": {
    "collapsed": false
   },
   "outputs": [],
   "source": [
    "train_labels = fake_labels.copy()\n",
    "X_train, y_train, scaler_train = calc_train_data(train_labels, poi_list, poi_info.copy(), \n",
    "                                                 edge_features.copy(), poi_id_dict.copy())\n",
    "ssvm = train_ssvm(X_train, y_train, C)"
   ]
  },
  {
   "cell_type": "code",
   "execution_count": null,
   "metadata": {
    "collapsed": false
   },
   "outputs": [],
   "source": [
    "plot_obj_curve(ssvm)"
   ]
  },
  {
   "cell_type": "markdown",
   "metadata": {
    "collapsed": true
   },
   "source": [
    "Evaluate on training set"
   ]
  },
  {
   "cell_type": "code",
   "execution_count": null,
   "metadata": {
    "collapsed": true
   },
   "outputs": [],
   "source": [
    "predictions = dict()\n",
    "for label in train_labels:\n",
    "    y_pred = predict(ssvm, label[0], len(label), poi_list, poi_info.copy(), edge_features.copy(),\n",
    "                     scaler_train, poi_id_dict, poi_id_rdict)\n",
    "    predictions[(label[0], len(label))] = {'PRED': y_pred, 'REAL': label}"
   ]
  },
  {
   "cell_type": "code",
   "execution_count": null,
   "metadata": {
    "collapsed": false
   },
   "outputs": [],
   "source": [
    "evaluation(predictions)"
   ]
  },
  {
   "cell_type": "markdown",
   "metadata": {},
   "source": [
    "## Step 3 - Leave-one-out evaluation on generated dataset"
   ]
  },
  {
   "cell_type": "markdown",
   "metadata": {},
   "source": [
    "### Choose hyper-parameter C"
   ]
  },
  {
   "cell_type": "markdown",
   "metadata": {},
   "source": [
    "Choose hyper-parameter C using Monte-Carlo cross validation"
   ]
  },
  {
   "cell_type": "code",
   "execution_count": null,
   "metadata": {
    "collapsed": true
   },
   "outputs": [],
   "source": [
    "num_test = int(len(fake_labels) * 0.2)"
   ]
  },
  {
   "cell_type": "code",
   "execution_count": null,
   "metadata": {
    "collapsed": false
   },
   "outputs": [],
   "source": [
    "best_tau = 0; best_C = 0\n",
    "for C in C_SET:\n",
    "    F1_test = []; pF1_test = []; tau_test = []\n",
    "    for t in range(MC_NITER):\n",
    "        indices = np.arange(len(fake_labels))\n",
    "        np.random.shuffle(indices)\n",
    "        test_ix = indices[:num_test]\n",
    "        train_ix = indices[num_test:]\n",
    "        train_labels = [fake_labels[ix] for ix in train_ix]\n",
    "        test_labels  = [fake_labels[ix] for ix in test_ix]\n",
    "        X_train, y_train, scaler_train = calc_train_data(train_labels, poi_list, poi_info.copy(), \n",
    "                                                         edge_features.copy(), poi_id_dict.copy())\n",
    "        ssvm = train_ssvm(X_train, y_train, C)\n",
    "        predictions = dict()\n",
    "        for label in test_labels:\n",
    "            y_pred = predict(ssvm, label[0], len(label), poi_list, poi_info.copy(), edge_features.copy(), \n",
    "                             scaler_train, poi_id_dict, poi_id_rdict)\n",
    "            predictions[(label[0], len(label))] = {'PRED': y_pred, 'REAL': label}\n",
    "        F1, pF1, tau = evaluation(predictions)\n",
    "        F1_test.append(F1); pF1_test.append(pF1); tau_test.append(tau)\n",
    "    tau_mean = np.mean(tau_test)\n",
    "    if tau_mean > best_tau:\n",
    "        best_tau = tau_mean\n",
    "        best_C = C\n",
    "        print('best_tau: %.3f, best_C: %.3f' % (best_tau, best_C))        "
   ]
  },
  {
   "cell_type": "markdown",
   "metadata": {},
   "source": [
    "### Leave-one-out cross validation"
   ]
  },
  {
   "cell_type": "code",
   "execution_count": null,
   "metadata": {
    "collapsed": true
   },
   "outputs": [],
   "source": [
    "predictions = dict()"
   ]
  },
  {
   "cell_type": "code",
   "execution_count": null,
   "metadata": {
    "collapsed": true
   },
   "outputs": [],
   "source": [
    "for i in range(len(fake_labels)):\n",
    "    train_labels = fake_labels[:i] + fake_labels[i+1:]\n",
    "    X_train, y_train, scaler_train = calc_train_data(train_labels, poi_list, poi_info.copy(), \n",
    "                                                     edge_features.copy(), poi_id_dict.copy())\n",
    "    ssvm = train_ssvm(X_train, y_train, C)\n",
    "    for label in train_labels:\n",
    "        y_pred = predict(ssvm, label[0], len(label), poi_list, poi_info.copy(), edge_features.copy(), \n",
    "                         scaler_train, poi_id_dict, poi_id_rdict)\n",
    "        predictions[(label[0], len(label))] = {'PRED': y_pred, 'REAL': label}"
   ]
  },
  {
   "cell_type": "code",
   "execution_count": null,
   "metadata": {
    "collapsed": false
   },
   "outputs": [],
   "source": [
    "evaluation(predictions)"
   ]
  },
  {
   "cell_type": "markdown",
   "metadata": {},
   "source": [
    "## Step 4 - Check the informative of duration related features"
   ]
  },
  {
   "cell_type": "markdown",
   "metadata": {},
   "source": [
    "Turn off duration related features one-by-one, and perform [step 3](#Step-3---Leave-one-out-evaluation-on-generated-dataset) to check whether duration related features help."
   ]
  },
  {
   "cell_type": "markdown",
   "metadata": {},
   "source": [
    "Concretely, disable duration related POI and transition features in [step 1](#Step-1---Generate-new-dataset) one-by-one, and run step 1 to step 3."
   ]
  },
  {
   "cell_type": "markdown",
   "metadata": {},
   "source": [
    "## Step 5 - Compute POI and transition features on the generated data"
   ]
  },
  {
   "cell_type": "markdown",
   "metadata": {},
   "source": [
    "### Compute features"
   ]
  },
  {
   "cell_type": "code",
   "execution_count": null,
   "metadata": {
    "collapsed": true
   },
   "outputs": [],
   "source": [
    "poi_info_new = poi_info.copy()\n",
    "edge_features_new = edge_features.copy()\n",
    "\n",
    "# turn off duration related features\n",
    "poi_info_new['avgDuration'] = 0.0\n",
    "edge_features_new[:, :, 3] = LOG_ZERO\n",
    "\n",
    "# set popularity/nvisit and popularity/nvisit transition related features"
   ]
  },
  {
   "cell_type": "markdown",
   "metadata": {},
   "source": [
    "### Choose hyper-parameter C"
   ]
  },
  {
   "cell_type": "code",
   "execution_count": null,
   "metadata": {
    "collapsed": false
   },
   "outputs": [],
   "source": [
    "best_tau = 0; best_C = 0\n",
    "for C in C_SET:\n",
    "    F1_test = []; pF1_test = []; tau_test = []\n",
    "    for t in range(MC_NITER):\n",
    "        indices = np.arange(len(fake_labels))\n",
    "        np.random.shuffle(indices)\n",
    "        test_ix = indices[:num_test]\n",
    "        train_ix = indices[num_test:]\n",
    "        train_labels = [fake_labels[ix] for ix in train_ix]\n",
    "        test_labels  = [fake_labels[ix] for ix in test_ix]\n",
    "        X_train, y_train, scaler_train = calc_train_data(train_labels, poi_list, poi_info_new.copy(), \n",
    "                                                         edge_features_new.copy(), poi_id_dict.copy())\n",
    "        ssvm = train_ssvm(X_train, y_train, C)\n",
    "        predictions = dict()\n",
    "        for label in test_labels:\n",
    "            y_pred = predict(ssvm, label[0], len(label), poi_list, poi_info_new.copy(), edge_features_new.copy(), \n",
    "                             scaler_train, poi_id_dict, poi_id_rdict)\n",
    "            predictions[(label[0], len(label))] = {'PRED': y_pred, 'REAL': label}\n",
    "        F1, pF1, tau = evaluation(predictions)\n",
    "        F1_test.append(F1); pF1_test.append(pF1); tau_test.append(tau)\n",
    "    tau_mean = np.mean(tau_test)\n",
    "    if tau_mean > best_tau:\n",
    "        best_tau = tau_mean\n",
    "        best_C = C\n",
    "        print('best_tau: %.3f, best_C: %.3f' % (best_tau, best_C))        "
   ]
  },
  {
   "cell_type": "markdown",
   "metadata": {},
   "source": [
    "### Leave-one-out cross validation"
   ]
  },
  {
   "cell_type": "code",
   "execution_count": null,
   "metadata": {
    "collapsed": true
   },
   "outputs": [],
   "source": [
    "predictions = dict()"
   ]
  },
  {
   "cell_type": "code",
   "execution_count": null,
   "metadata": {
    "collapsed": true
   },
   "outputs": [],
   "source": [
    "for i in range(len(fake_labels)):\n",
    "    train_labels = fake_labels[:i] + fake_labels[i+1:]\n",
    "    X_train, y_train, scaler_train = calc_train_data(train_labels, poi_list, poi_info_new.copy(), \n",
    "                                                     edge_features_new.copy(), poi_id_dict.copy())\n",
    "    ssvm = train_ssvm(X_train, y_train, C)\n",
    "    for label in train_labels:\n",
    "        y_pred = predict(ssvm, label[0], len(label), poi_list, poi_info_new.copy(), edge_features_new.copy(), \n",
    "                         scaler_train, poi_id_dict, poi_id_rdict)\n",
    "        predictions[(label[0], len(label))] = {'PRED': y_pred, 'REAL': label}"
   ]
  },
  {
   "cell_type": "code",
   "execution_count": null,
   "metadata": {
    "collapsed": false
   },
   "outputs": [],
   "source": [
    "evaluation(predictions)"
   ]
  }
 ],
 "metadata": {
  "kernelspec": {
   "display_name": "Python 3",
   "language": "python",
   "name": "python3"
  },
  "language_info": {
   "codemirror_mode": {
    "name": "ipython",
    "version": 3
   },
   "file_extension": ".py",
   "mimetype": "text/x-python",
   "name": "python",
   "nbconvert_exporter": "python",
   "pygments_lexer": "ipython3",
   "version": "3.5.2"
  }
 },
 "nbformat": 4,
 "nbformat_minor": 2
}
