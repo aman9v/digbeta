{
 "cells": [
  {
   "cell_type": "code",
   "execution_count": null,
   "metadata": {
    "collapsed": true
   },
   "outputs": [],
   "source": [
    "import sys\n",
    "import numpy as np\n",
    "import random"
   ]
  },
  {
   "cell_type": "code",
   "execution_count": null,
   "metadata": {
    "collapsed": true
   },
   "outputs": [],
   "source": [
    "sys.path.append('src/')"
   ]
  },
  {
   "cell_type": "code",
   "execution_count": null,
   "metadata": {
    "collapsed": true
   },
   "outputs": [],
   "source": [
    "#import pyximport; pyximport.install()\n",
    "from inference_lv import do_inference_list_viterbi"
   ]
  },
  {
   "cell_type": "code",
   "execution_count": null,
   "metadata": {
    "collapsed": true
   },
   "outputs": [],
   "source": [
    "from inference import do_inference_brute_force"
   ]
  },
  {
   "cell_type": "code",
   "execution_count": null,
   "metadata": {
    "collapsed": true
   },
   "outputs": [],
   "source": [
    "random.seed(0)\n",
    "np.random.seed(0)"
   ]
  },
  {
   "cell_type": "code",
   "execution_count": null,
   "metadata": {
    "collapsed": false
   },
   "outputs": [],
   "source": [
    "M0 = 29\n",
    "n_u = 10\n",
    "n_p = 5\n",
    "w_u = np.random.rand(M0*n_u).reshape(M0, n_u)\n",
    "f_u = np.random.rand(M0*n_u).reshape(M0, n_u)\n",
    "w_p = np.random.rand(M0*M0*n_p).reshape(M0, M0, n_p)\n",
    "f_p = np.random.rand(M0*M0*n_p).reshape(M0, M0, n_p)\n",
    "ps0 = np.random.choice(np.arange(M0))\n",
    "L0 = np.random.choice(np.arange(2, 6))\n",
    "indices0 = [x for x in range(M0) if x != ps0]; np.random.shuffle(indices0)\n",
    "y_true0 = [ps0] + indices0[:L0-1]\n",
    "y_true_list0 = [y_true0]\n",
    "for j in range(8):\n",
    "    np.random.shuffle(indices0); y_true_list0.append([ps0] + indices0[:L0-1])\n",
    "print(ps0, L0)"
   ]
  },
  {
   "cell_type": "code",
   "execution_count": null,
   "metadata": {
    "collapsed": false,
    "scrolled": true
   },
   "outputs": [],
   "source": [
    "do_inference_brute_force(ps0, L0, M0, w_u, w_p, f_u, f_p, debug=True)"
   ]
  },
  {
   "cell_type": "code",
   "execution_count": null,
   "metadata": {
    "collapsed": false
   },
   "outputs": [],
   "source": [
    "do_inference_list_viterbi(ps0, L0, M0, w_u, w_p, f_u, f_p)"
   ]
  },
  {
   "cell_type": "code",
   "execution_count": null,
   "metadata": {
    "collapsed": false,
    "scrolled": true
   },
   "outputs": [],
   "source": [
    "do_inference_brute_force(ps0, L0, M0, w_u, w_p, f_u, f_p, y_true=y_true0, y_true_list=y_true_list0)"
   ]
  },
  {
   "cell_type": "code",
   "execution_count": null,
   "metadata": {
    "collapsed": false
   },
   "outputs": [],
   "source": [
    "do_inference_list_viterbi(ps0, L0, M0, w_u, w_p, f_u, f_p, y_true=y_true0, y_true_list=y_true_list0) # allow sub-tours"
   ]
  }
 ],
 "metadata": {
  "kernelspec": {
   "display_name": "Python [default]",
   "language": "python",
   "name": "python3"
  },
  "language_info": {
   "codemirror_mode": {
    "name": "ipython",
    "version": 3
   },
   "file_extension": ".py",
   "mimetype": "text/x-python",
   "name": "python",
   "nbconvert_exporter": "python",
   "pygments_lexer": "ipython3",
   "version": "3.5.2"
  }
 },
 "nbformat": 4,
 "nbformat_minor": 2
}
