{
 "cells": [
  {
   "cell_type": "markdown",
   "metadata": {
    "deletable": true,
    "editable": true
   },
   "source": [
    "# Data preparation: convert idomaar to CSV"
   ]
  },
  {
   "cell_type": "markdown",
   "metadata": {
    "deletable": true,
    "editable": true
   },
   "source": [
    "Convert [30Music dataset](http://crowdrec.eu/2015/11/30music-dataset-release/) from [idomaar format](https://github.com/crowdrec/idomaar/wiki/DATA-FORMAT) to CSV format."
   ]
  },
  {
   "cell_type": "code",
   "execution_count": 4,
   "metadata": {
    "collapsed": true,
    "deletable": true,
    "editable": true
   },
   "outputs": [],
   "source": [
    "import sys, csv, json\n",
    "import numpy as np\n",
    "import pandas as pd"
   ]
  },
  {
   "cell_type": "code",
   "execution_count": 5,
   "metadata": {
    "collapsed": true,
    "deletable": true,
    "editable": true
   },
   "outputs": [],
   "source": [
    "COLUMNS = ['Type', 'ID', 'Timestamp', 'Properties', 'LinkedEntities']"
   ]
  },
  {
   "cell_type": "markdown",
   "metadata": {
    "deletable": true,
    "editable": true
   },
   "source": [
    "## Convert albums data to CSV"
   ]
  },
  {
   "cell_type": "code",
   "execution_count": null,
   "metadata": {
    "collapsed": true,
    "deletable": true,
    "editable": true
   },
   "outputs": [],
   "source": [
    "falbums = 'albums.idomaar'"
   ]
  },
  {
   "cell_type": "code",
   "execution_count": null,
   "metadata": {
    "collapsed": true,
    "deletable": true,
    "editable": true
   },
   "outputs": [],
   "source": [
    "#with open(falbums) as tsvin:\n",
    "#    tsvin = csv.reader(tsvin, delimiter='\\t')\n",
    "#    for row in tsvin:\n",
    "#        if len(row[4]) > 2:\n",
    "#            print(row)"
   ]
  },
  {
   "cell_type": "code",
   "execution_count": null,
   "metadata": {
    "collapsed": false,
    "deletable": true,
    "editable": true
   },
   "outputs": [],
   "source": [
    "albums = pd.read_csv(falbums, delimiter='\\t', header=None)"
   ]
  },
  {
   "cell_type": "code",
   "execution_count": null,
   "metadata": {
    "collapsed": true,
    "deletable": true,
    "editable": true
   },
   "outputs": [],
   "source": [
    "albums.columns = COLUMNS"
   ]
  },
  {
   "cell_type": "code",
   "execution_count": null,
   "metadata": {
    "collapsed": false,
    "deletable": true,
    "editable": true
   },
   "outputs": [],
   "source": [
    "albums.head()"
   ]
  },
  {
   "cell_type": "code",
   "execution_count": null,
   "metadata": {
    "collapsed": false,
    "deletable": true,
    "editable": true
   },
   "outputs": [],
   "source": [
    "albums[albums['Timestamp'] != -1]"
   ]
  },
  {
   "cell_type": "code",
   "execution_count": null,
   "metadata": {
    "collapsed": false,
    "deletable": true,
    "editable": true
   },
   "outputs": [],
   "source": [
    "albums[albums['LinkedEntities'] != '{}']"
   ]
  },
  {
   "cell_type": "code",
   "execution_count": null,
   "metadata": {
    "collapsed": true,
    "deletable": true,
    "editable": true
   },
   "outputs": [],
   "source": [
    "albums.set_index('ID', inplace=True)"
   ]
  },
  {
   "cell_type": "code",
   "execution_count": null,
   "metadata": {
    "collapsed": false,
    "deletable": true,
    "editable": true
   },
   "outputs": [],
   "source": [
    "albums.head()"
   ]
  },
  {
   "cell_type": "markdown",
   "metadata": {
    "deletable": true,
    "editable": true
   },
   "source": [
    "Deal with illegally formated JSON."
   ]
  },
  {
   "cell_type": "code",
   "execution_count": null,
   "metadata": {
    "collapsed": false,
    "deletable": true,
    "editable": true
   },
   "outputs": [],
   "source": [
    "cnt = 0\n",
    "for ix in albums.index:\n",
    "    try:\n",
    "        prop = json.loads(albums.loc[ix, 'Properties'])\n",
    "        aa = (prop['MBID'], prop['title'])\n",
    "    except:\n",
    "        cnt += 1\n",
    "        #print(ix)\n",
    "print(cnt)"
   ]
  },
  {
   "cell_type": "code",
   "execution_count": null,
   "metadata": {
    "collapsed": true,
    "deletable": true,
    "editable": true
   },
   "outputs": [],
   "source": [
    "def parse_properties(props, debug=False): \n",
    "    try:\n",
    "        prop = json.loads(props)\n",
    "    except:\n",
    "        # deal with duplicated \" in json string\n",
    "        props = props.replace('\"title\":', '\"TITLE\":').replace('\"', '').replace('\\\\', '')\\\n",
    "                     .replace('MBID:', '\"MBID\":\"').replace(', TITLE:', '\", \"title\":\"').replace('}', '\"}')\n",
    "        if debug is True: print(props)\n",
    "        prop = json.loads(props)\n",
    "    return pd.Series({'MBID': prop['MBID'], 'Title': prop['title']})"
   ]
  },
  {
   "cell_type": "code",
   "execution_count": null,
   "metadata": {
    "collapsed": false,
    "deletable": true,
    "editable": true
   },
   "outputs": [],
   "source": [
    "props = albums.loc[708, 'Properties']\n",
    "props"
   ]
  },
  {
   "cell_type": "code",
   "execution_count": null,
   "metadata": {
    "collapsed": false,
    "deletable": true,
    "editable": true
   },
   "outputs": [],
   "source": [
    "#json.loads(props)  # causes exception"
   ]
  },
  {
   "cell_type": "code",
   "execution_count": null,
   "metadata": {
    "collapsed": false,
    "deletable": true,
    "editable": true
   },
   "outputs": [],
   "source": [
    "parse_properties(props)"
   ]
  },
  {
   "cell_type": "code",
   "execution_count": null,
   "metadata": {
    "collapsed": false,
    "deletable": true,
    "editable": true
   },
   "outputs": [],
   "source": [
    "prop_df = albums['Properties'].apply(lambda s: parse_properties(s, debug=False))"
   ]
  },
  {
   "cell_type": "code",
   "execution_count": null,
   "metadata": {
    "collapsed": false,
    "deletable": true,
    "editable": true
   },
   "outputs": [],
   "source": [
    "prop_df.head()"
   ]
  },
  {
   "cell_type": "code",
   "execution_count": null,
   "metadata": {
    "collapsed": false,
    "deletable": true,
    "editable": true
   },
   "outputs": [],
   "source": [
    "albums = albums.merge(prop_df, left_index=True, right_index=True)"
   ]
  },
  {
   "cell_type": "code",
   "execution_count": null,
   "metadata": {
    "collapsed": false,
    "deletable": true,
    "editable": true
   },
   "outputs": [],
   "source": [
    "albums.head()"
   ]
  },
  {
   "cell_type": "code",
   "execution_count": null,
   "metadata": {
    "collapsed": false,
    "deletable": true,
    "editable": true
   },
   "outputs": [],
   "source": [
    "albums.drop(['Type', 'Timestamp', 'Properties', 'LinkedEntities'], axis=1, inplace=True)"
   ]
  },
  {
   "cell_type": "code",
   "execution_count": null,
   "metadata": {
    "collapsed": false,
    "deletable": true,
    "editable": true
   },
   "outputs": [],
   "source": [
    "albums.head()"
   ]
  },
  {
   "cell_type": "code",
   "execution_count": null,
   "metadata": {
    "collapsed": true,
    "deletable": true,
    "editable": true
   },
   "outputs": [],
   "source": [
    "fcsv_falbums = 'albums.csv'\n",
    "albums.to_csv(fcsv_falbums)"
   ]
  },
  {
   "cell_type": "code",
   "execution_count": null,
   "metadata": {
    "collapsed": false,
    "deletable": true,
    "editable": true
   },
   "outputs": [],
   "source": [
    "pd.read_csv(fcsv_falbums, index_col=0).head()"
   ]
  },
  {
   "cell_type": "markdown",
   "metadata": {
    "deletable": true,
    "editable": true
   },
   "source": [
    "## Convert artists data to CSV"
   ]
  },
  {
   "cell_type": "code",
   "execution_count": null,
   "metadata": {
    "collapsed": true,
    "deletable": true,
    "editable": true
   },
   "outputs": [],
   "source": [
    "fartists = 'persons.idomaar'"
   ]
  },
  {
   "cell_type": "code",
   "execution_count": null,
   "metadata": {
    "collapsed": true,
    "deletable": true,
    "editable": true
   },
   "outputs": [],
   "source": [
    "artists = pd.read_csv(fartists, delimiter='\\t', header=None)"
   ]
  },
  {
   "cell_type": "code",
   "execution_count": null,
   "metadata": {
    "collapsed": false,
    "deletable": true,
    "editable": true
   },
   "outputs": [],
   "source": [
    "artists.columns = COLUMNS\n",
    "artists.head()"
   ]
  },
  {
   "cell_type": "code",
   "execution_count": null,
   "metadata": {
    "collapsed": true,
    "deletable": true,
    "editable": true
   },
   "outputs": [],
   "source": [
    "artists.set_index('ID', inplace=True)"
   ]
  },
  {
   "cell_type": "code",
   "execution_count": null,
   "metadata": {
    "collapsed": false,
    "deletable": true,
    "editable": true
   },
   "outputs": [],
   "source": [
    "artists[artists['Timestamp'] != -1]"
   ]
  },
  {
   "cell_type": "code",
   "execution_count": null,
   "metadata": {
    "collapsed": false,
    "deletable": true,
    "editable": true
   },
   "outputs": [],
   "source": [
    "artists[artists['LinkedEntities'] != '{}']"
   ]
  },
  {
   "cell_type": "code",
   "execution_count": null,
   "metadata": {
    "collapsed": true,
    "deletable": true,
    "editable": true
   },
   "outputs": [],
   "source": [
    "artists.drop(['Timestamp', 'LinkedEntities'], axis=1, inplace=True)"
   ]
  },
  {
   "cell_type": "code",
   "execution_count": null,
   "metadata": {
    "collapsed": false,
    "deletable": true,
    "editable": true
   },
   "outputs": [],
   "source": [
    "print(artists.shape)\n",
    "artists.head()"
   ]
  },
  {
   "cell_type": "code",
   "execution_count": null,
   "metadata": {
    "collapsed": false,
    "deletable": true,
    "editable": true
   },
   "outputs": [],
   "source": [
    "artists_prop = artists['Properties'].apply(lambda s: \\\n",
    "                                           pd.Series({'MBID': json.loads(s)['MBID'], 'Name': json.loads(s)['name']}))"
   ]
  },
  {
   "cell_type": "code",
   "execution_count": null,
   "metadata": {
    "collapsed": false,
    "deletable": true,
    "editable": true
   },
   "outputs": [],
   "source": [
    "#set(list(artists.index)) - set(list(artists_prop.index))"
   ]
  },
  {
   "cell_type": "code",
   "execution_count": null,
   "metadata": {
    "collapsed": false,
    "deletable": true,
    "editable": true
   },
   "outputs": [],
   "source": [
    "print(artists_prop.shape)\n",
    "artists_prop.head()"
   ]
  },
  {
   "cell_type": "code",
   "execution_count": null,
   "metadata": {
    "collapsed": false,
    "deletable": true,
    "editable": true
   },
   "outputs": [],
   "source": [
    "#artists_prop['Type'] = 'person'\n",
    "#artists_prop.head()"
   ]
  },
  {
   "cell_type": "code",
   "execution_count": null,
   "metadata": {
    "collapsed": true,
    "deletable": true,
    "editable": true
   },
   "outputs": [],
   "source": [
    "#artists.sort_index(inplace=True)"
   ]
  },
  {
   "cell_type": "code",
   "execution_count": null,
   "metadata": {
    "collapsed": false,
    "deletable": true,
    "editable": true
   },
   "outputs": [],
   "source": [
    "#artists = artists.merge(artists_prop, left_index=True, right_index=True)\n",
    "#print(artists.shape)"
   ]
  },
  {
   "cell_type": "code",
   "execution_count": null,
   "metadata": {
    "collapsed": false,
    "deletable": true,
    "editable": true
   },
   "outputs": [],
   "source": [
    "artists_prop.loc[297899]"
   ]
  },
  {
   "cell_type": "code",
   "execution_count": null,
   "metadata": {
    "collapsed": true,
    "deletable": true,
    "editable": true
   },
   "outputs": [],
   "source": [
    "fcsv_artists = 'persons.csv'\n",
    "artists_prop.to_csv(fcsv_artists)"
   ]
  },
  {
   "cell_type": "code",
   "execution_count": null,
   "metadata": {
    "collapsed": false,
    "deletable": true,
    "editable": true
   },
   "outputs": [],
   "source": [
    "pd.read_csv(fcsv_artists, index_col=0).head()"
   ]
  },
  {
   "cell_type": "markdown",
   "metadata": {
    "deletable": true,
    "editable": true
   },
   "source": [
    "## Convert users data to CSV"
   ]
  },
  {
   "cell_type": "code",
   "execution_count": null,
   "metadata": {
    "collapsed": true,
    "deletable": true,
    "editable": true
   },
   "outputs": [],
   "source": [
    "fusers = 'users.idomaar'"
   ]
  },
  {
   "cell_type": "code",
   "execution_count": null,
   "metadata": {
    "collapsed": true,
    "deletable": true,
    "editable": true
   },
   "outputs": [],
   "source": [
    "users = pd.read_csv(fusers, header=None, delimiter='\\t')"
   ]
  },
  {
   "cell_type": "code",
   "execution_count": null,
   "metadata": {
    "collapsed": false,
    "deletable": true,
    "editable": true
   },
   "outputs": [],
   "source": [
    "users.columns = COLUMNS[:-1]\n",
    "users.set_index('ID', inplace=True)\n",
    "users.head()"
   ]
  },
  {
   "cell_type": "code",
   "execution_count": null,
   "metadata": {
    "collapsed": true,
    "deletable": true,
    "editable": true
   },
   "outputs": [],
   "source": [
    "def parse_user_properties(props):\n",
    "    try:\n",
    "        prop = json.loads(props)\n",
    "    except:\n",
    "        props = props.replace('\"\"', 'null').replace(':,', ':null,')\n",
    "        try: prop = json.loads(props)\n",
    "        except: print(props); sys.exit(0)\n",
    "    return pd.Series({'Username': prop['lastfm_username'],\n",
    "                          'Gender': str.upper(prop['gender']) if prop['gender'] is not None else None,\n",
    "                          'Age': prop['age'],\n",
    "                          'Country': prop['country'],\n",
    "                          'Playcount': prop['playcount'],\n",
    "                          '#Playlists': prop['playlists'],\n",
    "                          'Subscribertype': prop['subscribertype']})    "
   ]
  },
  {
   "cell_type": "code",
   "execution_count": null,
   "metadata": {
    "collapsed": false,
    "deletable": true,
    "editable": true,
    "scrolled": true
   },
   "outputs": [],
   "source": [
    "user_prop = users['Properties'].apply(lambda s: parse_user_properties(s))"
   ]
  },
  {
   "cell_type": "code",
   "execution_count": null,
   "metadata": {
    "collapsed": false,
    "deletable": true,
    "editable": true
   },
   "outputs": [],
   "source": [
    "user_prop.shape"
   ]
  },
  {
   "cell_type": "code",
   "execution_count": null,
   "metadata": {
    "collapsed": true,
    "deletable": true,
    "editable": true
   },
   "outputs": [],
   "source": [
    "users.drop(['Type', 'Properties'], axis=1, inplace=True)"
   ]
  },
  {
   "cell_type": "code",
   "execution_count": null,
   "metadata": {
    "collapsed": false,
    "deletable": true,
    "editable": true
   },
   "outputs": [],
   "source": [
    "users = users.merge(user_prop, left_index=True, right_index=True)\n",
    "print(users.shape)"
   ]
  },
  {
   "cell_type": "code",
   "execution_count": null,
   "metadata": {
    "collapsed": false,
    "deletable": true,
    "editable": true
   },
   "outputs": [],
   "source": [
    "users.head()"
   ]
  },
  {
   "cell_type": "code",
   "execution_count": null,
   "metadata": {
    "collapsed": true,
    "deletable": true,
    "editable": true
   },
   "outputs": [],
   "source": [
    "fcsv_users = 'users.csv'\n",
    "users.to_csv(fcsv_users)"
   ]
  },
  {
   "cell_type": "code",
   "execution_count": null,
   "metadata": {
    "collapsed": false,
    "deletable": true,
    "editable": true
   },
   "outputs": [],
   "source": [
    "pd.read_csv(fcsv_users, index_col=0).head()"
   ]
  },
  {
   "cell_type": "markdown",
   "metadata": {
    "deletable": true,
    "editable": true
   },
   "source": [
    "## Convert tags data to CSV"
   ]
  },
  {
   "cell_type": "code",
   "execution_count": null,
   "metadata": {
    "collapsed": true,
    "deletable": true,
    "editable": true
   },
   "outputs": [],
   "source": [
    "ftags = 'tags.idomaar'"
   ]
  },
  {
   "cell_type": "code",
   "execution_count": null,
   "metadata": {
    "collapsed": false,
    "deletable": true,
    "editable": true
   },
   "outputs": [],
   "source": [
    "tags = pd.read_csv(ftags, header=None, delimiter='\\t')"
   ]
  },
  {
   "cell_type": "code",
   "execution_count": null,
   "metadata": {
    "collapsed": false,
    "deletable": true,
    "editable": true
   },
   "outputs": [],
   "source": [
    "tags.columns = COLUMNS\n",
    "tags.set_index('ID', inplace=True)\n",
    "tags.head()"
   ]
  },
  {
   "cell_type": "code",
   "execution_count": null,
   "metadata": {
    "collapsed": false,
    "deletable": true,
    "editable": true
   },
   "outputs": [],
   "source": [
    "tags[tags['Timestamp'] != -1]"
   ]
  },
  {
   "cell_type": "code",
   "execution_count": null,
   "metadata": {
    "collapsed": false,
    "deletable": true,
    "editable": true
   },
   "outputs": [],
   "source": [
    "tags[tags['LinkedEntities'] != '{}']"
   ]
  },
  {
   "cell_type": "code",
   "execution_count": null,
   "metadata": {
    "collapsed": true,
    "deletable": true,
    "editable": true
   },
   "outputs": [],
   "source": [
    "tags.drop(['Type', 'Timestamp', 'LinkedEntities'], axis=1, inplace=True)"
   ]
  },
  {
   "cell_type": "code",
   "execution_count": null,
   "metadata": {
    "collapsed": false,
    "deletable": true,
    "editable": true
   },
   "outputs": [],
   "source": [
    "print(tags.shape)\n",
    "tags.head()"
   ]
  },
  {
   "cell_type": "code",
   "execution_count": null,
   "metadata": {
    "collapsed": false,
    "deletable": true,
    "editable": true
   },
   "outputs": [],
   "source": [
    "tags.loc[58983, 'Properties']"
   ]
  },
  {
   "cell_type": "code",
   "execution_count": null,
   "metadata": {
    "collapsed": false,
    "deletable": true,
    "editable": true
   },
   "outputs": [],
   "source": [
    "def parse_tag_properties(props):\n",
    "    try:\n",
    "        prop = json.loads(props)\n",
    "    except:\n",
    "        props = props.replace('u\"', '').replace('\\\\', '').replace('\\\\n', '')\\\n",
    "                     .replace('\"value\":', 'VALUE:').replace('\"url\":', 'URL:').replace('\"', '')\\\n",
    "                     .replace('VALUE:', '\"value\":\"').replace(', URL:', '\", \"url\":\"').replace('}', '\"}')\n",
    "        try: prop = json.loads(props)\n",
    "        except: print(props); sys.exit(0)\n",
    "    return pd.Series({'Value': prop['value'].replace('\\n', ''), 'URL': prop['url']})"
   ]
  },
  {
   "cell_type": "code",
   "execution_count": null,
   "metadata": {
    "collapsed": false,
    "deletable": true,
    "editable": true,
    "scrolled": true
   },
   "outputs": [],
   "source": [
    "tags_prop = tags['Properties'].apply(lambda s: parse_tag_properties(s))"
   ]
  },
  {
   "cell_type": "code",
   "execution_count": null,
   "metadata": {
    "collapsed": false,
    "deletable": true,
    "editable": true
   },
   "outputs": [],
   "source": [
    "print(tags_prop.shape)\n",
    "tags_prop.head()"
   ]
  },
  {
   "cell_type": "code",
   "execution_count": null,
   "metadata": {
    "collapsed": false,
    "deletable": true,
    "editable": true
   },
   "outputs": [],
   "source": [
    "tags_prop.loc[230795, 'Value']"
   ]
  },
  {
   "cell_type": "code",
   "execution_count": null,
   "metadata": {
    "collapsed": true,
    "deletable": true,
    "editable": true
   },
   "outputs": [],
   "source": [
    "fcsv_tags = 'tags.csv'\n",
    "tags_prop.to_csv(fcsv_tags)"
   ]
  },
  {
   "cell_type": "code",
   "execution_count": null,
   "metadata": {
    "collapsed": false,
    "deletable": true,
    "editable": true
   },
   "outputs": [],
   "source": [
    "pd.read_csv(fcsv_tags, index_col=0).head()"
   ]
  },
  {
   "cell_type": "markdown",
   "metadata": {
    "deletable": true,
    "editable": true
   },
   "source": [
    "## Convert tracks data to CSV"
   ]
  },
  {
   "cell_type": "markdown",
   "metadata": {},
   "source": [
    "**NOTE**: there are *duplicated lines* (duplicated track ID with possibly different information) in tracks data, need to deal with this."
   ]
  },
  {
   "cell_type": "code",
   "execution_count": 6,
   "metadata": {
    "collapsed": true,
    "deletable": true,
    "editable": true
   },
   "outputs": [],
   "source": [
    "ftracks = 'tracks.idomaar'"
   ]
  },
  {
   "cell_type": "code",
   "execution_count": 7,
   "metadata": {
    "collapsed": false,
    "deletable": true,
    "editable": true
   },
   "outputs": [],
   "source": [
    "tracks = pd.read_csv(ftracks, header=None, delimiter='\\t')"
   ]
  },
  {
   "cell_type": "code",
   "execution_count": 8,
   "metadata": {
    "collapsed": false,
    "deletable": true,
    "editable": true
   },
   "outputs": [
    {
     "data": {
      "text/html": [
       "<div>\n",
       "<table border=\"1\" class=\"dataframe\">\n",
       "  <thead>\n",
       "    <tr style=\"text-align: right;\">\n",
       "      <th></th>\n",
       "      <th>Type</th>\n",
       "      <th>ID</th>\n",
       "      <th>Timestamp</th>\n",
       "      <th>Properties</th>\n",
       "      <th>LinkedEntities</th>\n",
       "    </tr>\n",
       "  </thead>\n",
       "  <tbody>\n",
       "    <tr>\n",
       "      <th>0</th>\n",
       "      <td>track</td>\n",
       "      <td>0</td>\n",
       "      <td>-1</td>\n",
       "      <td>{\"duration\":-1,\"playcount\":4,\"MBID\":null,\"name...</td>\n",
       "      <td>{\"artists\":[{\"type\":\"person\",\"id\":0}],\"albums\"...</td>\n",
       "    </tr>\n",
       "    <tr>\n",
       "      <th>1</th>\n",
       "      <td>track</td>\n",
       "      <td>1</td>\n",
       "      <td>-1</td>\n",
       "      <td>{\"duration\":-1,\"playcount\":495,\"MBID\":null,\"na...</td>\n",
       "      <td>{\"artists\":[{\"type\":\"person\",\"id\":1}],\"albums\"...</td>\n",
       "    </tr>\n",
       "    <tr>\n",
       "      <th>2</th>\n",
       "      <td>track</td>\n",
       "      <td>2</td>\n",
       "      <td>-1</td>\n",
       "      <td>{\"duration\":-1,\"playcount\":2,\"MBID\":null,\"name...</td>\n",
       "      <td>{\"artists\":[{\"type\":\"person\",\"id\":2}],\"albums\"...</td>\n",
       "    </tr>\n",
       "    <tr>\n",
       "      <th>3</th>\n",
       "      <td>track</td>\n",
       "      <td>3</td>\n",
       "      <td>-1</td>\n",
       "      <td>{\"duration\":-1,\"playcount\":2,\"MBID\":null,\"name...</td>\n",
       "      <td>{\"artists\":[{\"type\":\"person\",\"id\":3}],\"albums\"...</td>\n",
       "    </tr>\n",
       "    <tr>\n",
       "      <th>4</th>\n",
       "      <td>track</td>\n",
       "      <td>4</td>\n",
       "      <td>-1</td>\n",
       "      <td>{\"duration\":-1,\"playcount\":1,\"MBID\":null,\"name...</td>\n",
       "      <td>{\"artists\":[{\"type\":\"person\",\"id\":4}],\"albums\"...</td>\n",
       "    </tr>\n",
       "  </tbody>\n",
       "</table>\n",
       "</div>"
      ],
      "text/plain": [
       "    Type  ID  Timestamp                                         Properties  \\\n",
       "0  track   0         -1  {\"duration\":-1,\"playcount\":4,\"MBID\":null,\"name...   \n",
       "1  track   1         -1  {\"duration\":-1,\"playcount\":495,\"MBID\":null,\"na...   \n",
       "2  track   2         -1  {\"duration\":-1,\"playcount\":2,\"MBID\":null,\"name...   \n",
       "3  track   3         -1  {\"duration\":-1,\"playcount\":2,\"MBID\":null,\"name...   \n",
       "4  track   4         -1  {\"duration\":-1,\"playcount\":1,\"MBID\":null,\"name...   \n",
       "\n",
       "                                      LinkedEntities  \n",
       "0  {\"artists\":[{\"type\":\"person\",\"id\":0}],\"albums\"...  \n",
       "1  {\"artists\":[{\"type\":\"person\",\"id\":1}],\"albums\"...  \n",
       "2  {\"artists\":[{\"type\":\"person\",\"id\":2}],\"albums\"...  \n",
       "3  {\"artists\":[{\"type\":\"person\",\"id\":3}],\"albums\"...  \n",
       "4  {\"artists\":[{\"type\":\"person\",\"id\":4}],\"albums\"...  "
      ]
     },
     "execution_count": 8,
     "metadata": {},
     "output_type": "execute_result"
    }
   ],
   "source": [
    "tracks.columns = COLUMNS\n",
    "#tracks.set_index('ID', inplace=True) # there's duplications\n",
    "tracks.head()"
   ]
  },
  {
   "cell_type": "code",
   "execution_count": 9,
   "metadata": {
    "collapsed": false,
    "deletable": true,
    "editable": true
   },
   "outputs": [
    {
     "data": {
      "text/html": [
       "<div>\n",
       "<table border=\"1\" class=\"dataframe\">\n",
       "  <thead>\n",
       "    <tr style=\"text-align: right;\">\n",
       "      <th></th>\n",
       "      <th>Type</th>\n",
       "      <th>ID</th>\n",
       "      <th>Timestamp</th>\n",
       "      <th>Properties</th>\n",
       "      <th>LinkedEntities</th>\n",
       "    </tr>\n",
       "  </thead>\n",
       "  <tbody>\n",
       "  </tbody>\n",
       "</table>\n",
       "</div>"
      ],
      "text/plain": [
       "Empty DataFrame\n",
       "Columns: [Type, ID, Timestamp, Properties, LinkedEntities]\n",
       "Index: []"
      ]
     },
     "execution_count": 9,
     "metadata": {},
     "output_type": "execute_result"
    }
   ],
   "source": [
    "tracks[tracks['Timestamp'] != -1]"
   ]
  },
  {
   "cell_type": "code",
   "execution_count": 10,
   "metadata": {
    "collapsed": true,
    "deletable": true,
    "editable": true
   },
   "outputs": [],
   "source": [
    "tracks.drop(['Type', 'Timestamp'], axis=1, inplace=True)"
   ]
  },
  {
   "cell_type": "markdown",
   "metadata": {},
   "source": [
    "Check duplications."
   ]
  },
  {
   "cell_type": "code",
   "execution_count": 11,
   "metadata": {
    "collapsed": false
   },
   "outputs": [
    {
     "data": {
      "text/plain": [
       "(4519105,)"
      ]
     },
     "execution_count": 11,
     "metadata": {},
     "output_type": "execute_result"
    }
   ],
   "source": [
    "tracks['ID'].unique().shape"
   ]
  },
  {
   "cell_type": "code",
   "execution_count": 15,
   "metadata": {
    "collapsed": false,
    "deletable": true,
    "editable": true
   },
   "outputs": [
    {
     "name": "stdout",
     "output_type": "stream",
     "text": [
      "(5675143, 3)\n"
     ]
    }
   ],
   "source": [
    "print(tracks.shape)"
   ]
  },
  {
   "cell_type": "code",
   "execution_count": 16,
   "metadata": {
    "collapsed": false,
    "deletable": true,
    "editable": true
   },
   "outputs": [
    {
     "data": {
      "text/html": [
       "<div>\n",
       "<table border=\"1\" class=\"dataframe\">\n",
       "  <thead>\n",
       "    <tr style=\"text-align: right;\">\n",
       "      <th></th>\n",
       "      <th>ID</th>\n",
       "      <th>Properties</th>\n",
       "      <th>LinkedEntities</th>\n",
       "    </tr>\n",
       "  </thead>\n",
       "  <tbody>\n",
       "    <tr>\n",
       "      <th>170</th>\n",
       "      <td>170</td>\n",
       "      <td>{\"duration\":212000,\"playcount\":2,\"MBID\":\"d6b90...</td>\n",
       "      <td>{\"artists\":[{\"type\":\"person\",\"id\":78}],\"albums...</td>\n",
       "    </tr>\n",
       "    <tr>\n",
       "      <th>144980</th>\n",
       "      <td>170</td>\n",
       "      <td>{\"duration\":212000,\"playcount\":7826,\"MBID\":\"d6...</td>\n",
       "      <td>{\"artists\":[{\"type\":\"person\",\"id\":78}],\"albums...</td>\n",
       "    </tr>\n",
       "  </tbody>\n",
       "</table>\n",
       "</div>"
      ],
      "text/plain": [
       "         ID                                         Properties  \\\n",
       "170     170  {\"duration\":212000,\"playcount\":2,\"MBID\":\"d6b90...   \n",
       "144980  170  {\"duration\":212000,\"playcount\":7826,\"MBID\":\"d6...   \n",
       "\n",
       "                                           LinkedEntities  \n",
       "170     {\"artists\":[{\"type\":\"person\",\"id\":78}],\"albums...  \n",
       "144980  {\"artists\":[{\"type\":\"person\",\"id\":78}],\"albums...  "
      ]
     },
     "execution_count": 16,
     "metadata": {},
     "output_type": "execute_result"
    }
   ],
   "source": [
    "tracks[tracks['ID'] == 170]"
   ]
  },
  {
   "cell_type": "code",
   "execution_count": 17,
   "metadata": {
    "collapsed": false,
    "deletable": true,
    "editable": true,
    "scrolled": true
   },
   "outputs": [],
   "source": [
    "#tracks_prop = tracks['Properties'].apply(lambda s: parse_track_properties(s))"
   ]
  },
  {
   "cell_type": "code",
   "execution_count": 46,
   "metadata": {
    "collapsed": true
   },
   "outputs": [],
   "source": [
    "prop_columns = ['Duration', 'Playcount', 'MBID', 'Name']\n",
    "entity_columns = ['ArtistsID', 'AlbumsID', 'TagsID']"
   ]
  },
  {
   "cell_type": "code",
   "execution_count": 47,
   "metadata": {
    "collapsed": true
   },
   "outputs": [],
   "source": [
    "tracks_df = pd.DataFrame(columns=['ID'] + prop_columns + entity_columns)\n",
    "tracks_df.set_index('ID', inplace=True)"
   ]
  },
  {
   "cell_type": "code",
   "execution_count": 48,
   "metadata": {
    "collapsed": false,
    "deletable": true,
    "editable": true
   },
   "outputs": [
    {
     "data": {
      "text/plain": [
       "'{\"duration\":-1,\"playcount\":4,\"MBID\":null,\"name\":\"000003+Music+Instructor/_/Dj%27s+Rock+Da+House+%C3%82%E2%89%88%C3%86%E2%89%88%C3%8A01+-+Dj+Max-Pulemet+Vs.+Bomfunk+Mc%27s+-+Electro+Breakdance+party+1+%5B2000%5D+=+CD+ONE%C3%82%E2%89%88%C3%86%E2%89%88%C3%8A\"}'"
      ]
     },
     "execution_count": 48,
     "metadata": {},
     "output_type": "execute_result"
    }
   ],
   "source": [
    "tracks.loc[0, 'Properties']"
   ]
  },
  {
   "cell_type": "code",
   "execution_count": 49,
   "metadata": {
    "collapsed": false,
    "deletable": true,
    "editable": true
   },
   "outputs": [],
   "source": [
    "def parse_track_properties(props):\n",
    "    try:\n",
    "        prop = json.loads(props)\n",
    "    except:\n",
    "        try: prop = json.loads(props)\n",
    "        except: print(props); sys.exit(0)\n",
    "    return pd.Series({'Duration': prop['duration'], 'Playcount': prop['playcount'], \\\n",
    "                      'MBID': prop['MBID'], 'Name': prop['name']})"
   ]
  },
  {
   "cell_type": "code",
   "execution_count": 50,
   "metadata": {
    "collapsed": false,
    "deletable": true,
    "editable": true
   },
   "outputs": [
    {
     "data": {
      "text/plain": [
       "{'albums': [], 'artists': [{'id': 0, 'type': 'person'}], 'tags': []}"
      ]
     },
     "execution_count": 50,
     "metadata": {},
     "output_type": "execute_result"
    }
   ],
   "source": [
    "json.loads(tracks.loc[0, 'LinkedEntities'])"
   ]
  },
  {
   "cell_type": "code",
   "execution_count": 51,
   "metadata": {
    "collapsed": false,
    "deletable": true,
    "editable": true
   },
   "outputs": [
    {
     "data": {
      "text/plain": [
       "'{\"artists\":[{\"type\":\"person\",\"id\":0}],\"albums\":[],\"tags\":[]}'"
      ]
     },
     "execution_count": 51,
     "metadata": {},
     "output_type": "execute_result"
    }
   ],
   "source": [
    "tracks.loc[0, 'LinkedEntities']"
   ]
  },
  {
   "cell_type": "code",
   "execution_count": 52,
   "metadata": {
    "collapsed": true
   },
   "outputs": [],
   "source": [
    "def parse_track_entities(entities):\n",
    "    try:\n",
    "        entity = json.loads(entities)\n",
    "    except:\n",
    "        try: entity = json.loads(entities)\n",
    "        except: print(entities); sys.exit(0)\n",
    "    return pd.Series({\n",
    "        'ArtistsID': ','.join([str(x['id']) for x in entity['artists']]) if len(entity['artists']) > 0 else None,\n",
    "        'AlbumsID': ','.join([str(x['id']) for x in entity['albums']]) if len(entity['albums']) > 0 else None,\n",
    "        'TagsID': ','.join([str(x['id']) for x in entity['tags']]) if len(entity['tags']) > 0 else None})"
   ]
  },
  {
   "cell_type": "code",
   "execution_count": 53,
   "metadata": {
    "collapsed": false,
    "deletable": true,
    "editable": true
   },
   "outputs": [
    {
     "data": {
      "text/plain": [
       "AlbumsID     None\n",
       "ArtistsID       0\n",
       "TagsID       None\n",
       "dtype: object"
      ]
     },
     "execution_count": 53,
     "metadata": {},
     "output_type": "execute_result"
    }
   ],
   "source": [
    "parse_track_entities(tracks.loc[0, 'LinkedEntities'])"
   ]
  },
  {
   "cell_type": "code",
   "execution_count": 54,
   "metadata": {
    "collapsed": true
   },
   "outputs": [],
   "source": [
    "def print_progress(cnt, total):\n",
    "    \"\"\"Display a progress bar\"\"\"\n",
    "    assert(cnt > 0 and total > 0 and cnt <= total)\n",
    "    length = 80\n",
    "    ratio = cnt / total\n",
    "    n = int(length * ratio)\n",
    "    sys.stdout.write('\\r[%-80s] %d%%' % ('-'*n, int(ratio*100)))\n",
    "    sys.stdout.flush()"
   ]
  },
  {
   "cell_type": "code",
   "execution_count": 55,
   "metadata": {
    "collapsed": true,
    "deletable": true,
    "editable": true
   },
   "outputs": [],
   "source": [
    "tracks.sort_values(by='ID', axis=0, ascending=True, inplace=True)"
   ]
  },
  {
   "cell_type": "code",
   "execution_count": 56,
   "metadata": {
    "collapsed": false,
    "deletable": true,
    "editable": true
   },
   "outputs": [
    {
     "data": {
      "text/html": [
       "<div>\n",
       "<table border=\"1\" class=\"dataframe\">\n",
       "  <thead>\n",
       "    <tr style=\"text-align: right;\">\n",
       "      <th></th>\n",
       "      <th>ID</th>\n",
       "      <th>Properties</th>\n",
       "      <th>LinkedEntities</th>\n",
       "    </tr>\n",
       "  </thead>\n",
       "  <tbody>\n",
       "    <tr>\n",
       "      <th>0</th>\n",
       "      <td>0</td>\n",
       "      <td>{\"duration\":-1,\"playcount\":4,\"MBID\":null,\"name...</td>\n",
       "      <td>{\"artists\":[{\"type\":\"person\",\"id\":0}],\"albums\"...</td>\n",
       "    </tr>\n",
       "    <tr>\n",
       "      <th>1</th>\n",
       "      <td>1</td>\n",
       "      <td>{\"duration\":-1,\"playcount\":495,\"MBID\":null,\"na...</td>\n",
       "      <td>{\"artists\":[{\"type\":\"person\",\"id\":1}],\"albums\"...</td>\n",
       "    </tr>\n",
       "    <tr>\n",
       "      <th>2</th>\n",
       "      <td>2</td>\n",
       "      <td>{\"duration\":-1,\"playcount\":2,\"MBID\":null,\"name...</td>\n",
       "      <td>{\"artists\":[{\"type\":\"person\",\"id\":2}],\"albums\"...</td>\n",
       "    </tr>\n",
       "    <tr>\n",
       "      <th>3</th>\n",
       "      <td>3</td>\n",
       "      <td>{\"duration\":-1,\"playcount\":2,\"MBID\":null,\"name...</td>\n",
       "      <td>{\"artists\":[{\"type\":\"person\",\"id\":3}],\"albums\"...</td>\n",
       "    </tr>\n",
       "    <tr>\n",
       "      <th>4</th>\n",
       "      <td>4</td>\n",
       "      <td>{\"duration\":-1,\"playcount\":1,\"MBID\":null,\"name...</td>\n",
       "      <td>{\"artists\":[{\"type\":\"person\",\"id\":4}],\"albums\"...</td>\n",
       "    </tr>\n",
       "  </tbody>\n",
       "</table>\n",
       "</div>"
      ],
      "text/plain": [
       "   ID                                         Properties  \\\n",
       "0   0  {\"duration\":-1,\"playcount\":4,\"MBID\":null,\"name...   \n",
       "1   1  {\"duration\":-1,\"playcount\":495,\"MBID\":null,\"na...   \n",
       "2   2  {\"duration\":-1,\"playcount\":2,\"MBID\":null,\"name...   \n",
       "3   3  {\"duration\":-1,\"playcount\":2,\"MBID\":null,\"name...   \n",
       "4   4  {\"duration\":-1,\"playcount\":1,\"MBID\":null,\"name...   \n",
       "\n",
       "                                      LinkedEntities  \n",
       "0  {\"artists\":[{\"type\":\"person\",\"id\":0}],\"albums\"...  \n",
       "1  {\"artists\":[{\"type\":\"person\",\"id\":1}],\"albums\"...  \n",
       "2  {\"artists\":[{\"type\":\"person\",\"id\":2}],\"albums\"...  \n",
       "3  {\"artists\":[{\"type\":\"person\",\"id\":3}],\"albums\"...  \n",
       "4  {\"artists\":[{\"type\":\"person\",\"id\":4}],\"albums\"...  "
      ]
     },
     "execution_count": 56,
     "metadata": {},
     "output_type": "execute_result"
    }
   ],
   "source": [
    "tracks.head()"
   ]
  },
  {
   "cell_type": "code",
   "execution_count": null,
   "metadata": {
    "collapsed": false
   },
   "outputs": [
    {
     "name": "stdout",
     "output_type": "stream",
     "text": [
      "75000"
     ]
    }
   ],
   "source": [
    "prev_id = 0\n",
    "for ix in tracks.index:\n",
    "    track_id = tracks.loc[ix, 'ID']\n",
    "    props = parse_track_properties(tracks.loc[ix, 'Properties'])\n",
    "    entities = parse_track_entities(str(tracks.loc[ix, 'LinkedEntities']))\n",
    "    if prev_id > 0 and track_id == prev_id:\n",
    "        # update existing track\n",
    "        # ['Duration', 'Playcount', 'MBID', 'Name']\n",
    "        if props['Duration'] is not None and tracks_df.loc[track_id, 'Duration'] is not None and \\\n",
    "           props['Duration'] > tracks_df.loc[track_id, 'Duration']: \n",
    "            tracks_df.loc[track_id, 'Duration'] = props['Duration']\n",
    "        if props['Playcount'] is not None and tracks_df.loc[track_id, 'Playcount'] is not None and \\\n",
    "           props['Playcount'] > tracks_df.loc[track_id, 'Playcount']:\n",
    "            tracks_df.loc[track_id, 'Playcount'] = props['Playcount']\n",
    "        if props['MBID'] is not None and tracks_df.loc[track_id, 'MBID'] is not None and \\\n",
    "           len(props['MBID']) > len(tracks_df.loc[track_id, 'MBID']):\n",
    "            tracks_df.loc[track_id, 'MBID'] = props['MBID']\n",
    "        if props['Name'] is not None and tracks_df.loc[track_id, 'Name'] is not None and \\\n",
    "           len(props['Name']) > len(tracks_df.loc[track_id, 'Name']):\n",
    "            tracks_df.loc[track_id, 'Name'] = props['Name']\n",
    "        # ['ArtistsID', 'AlbumsID', 'TagsID']\n",
    "        if entities['ArtistsID'] is not None and tracks_df.loc[track_id, 'ArtistsID'] is not None and \\\n",
    "           len(entities['ArtistsID']) > len(tracks_df.loc[track_id, 'ArtistsID']):\n",
    "            tracks_df.loc[track_id, 'ArtistsID'] = entities['ArtistsID']\n",
    "        if entities['AlbumsID'] is not None and tracks_df.loc[track_id, 'AlbumsID'] is not None and \\\n",
    "           len(entities['AlbumsID']) > len(tracks_df.loc[track_id, 'AlbumsID']):\n",
    "            tracks_df.loc[track_id, 'AlbumsID'] = entities['AlbumsID']\n",
    "        if entities['TagsID'] is not None and tracks_df.loc[track_id, 'TagsID'] is not None and \\\n",
    "           len(entities['TagsID']) > len(tracks_df.loc[track_id, 'TagsID']):\n",
    "            tracks_df.loc[track_id, 'TagsID'] = entities['TagsID']\n",
    "    else:\n",
    "        tracks_df.ID = track_id\n",
    "        tracks_df.loc[track_id, prop_columns] = props\n",
    "        tracks_df.loc[track_id, entity_columns] = entities\n",
    "        prev_id = track_id    \n",
    "    if (ix+1) % 1000 == 0:\n",
    "        sys.stdout.write('\\r%d / %d' % (ix+1, tracks.shape[0]))\n",
    "        sys.stdout.flush()"
   ]
  },
  {
   "cell_type": "code",
   "execution_count": null,
   "metadata": {
    "collapsed": false
   },
   "outputs": [],
   "source": [
    "tracks_df.head()"
   ]
  },
  {
   "cell_type": "code",
   "execution_count": null,
   "metadata": {
    "collapsed": true,
    "deletable": true,
    "editable": true
   },
   "outputs": [],
   "source": [
    "fcsv_tracks = 'tracks.csv'\n",
    "tracks_df.to_csv(fcsv_tracks)"
   ]
  },
  {
   "cell_type": "code",
   "execution_count": null,
   "metadata": {
    "collapsed": false,
    "deletable": true,
    "editable": true
   },
   "outputs": [],
   "source": [
    "pd.read_csv(fcsv_tracks, index_col=0).head()"
   ]
  },
  {
   "cell_type": "markdown",
   "metadata": {
    "deletable": true,
    "editable": true
   },
   "source": [
    "## Convert playlist data to CSV"
   ]
  },
  {
   "cell_type": "markdown",
   "metadata": {
    "deletable": true,
    "editable": true
   },
   "source": [
    "## Convert user preference data to CSV"
   ]
  }
 ],
 "metadata": {
  "kernelspec": {
   "display_name": "Python [default]",
   "language": "python",
   "name": "python3"
  },
  "language_info": {
   "codemirror_mode": {
    "name": "ipython",
    "version": 3
   },
   "file_extension": ".py",
   "mimetype": "text/x-python",
   "name": "python",
   "nbconvert_exporter": "python",
   "pygments_lexer": "ipython3",
   "version": "3.5.3"
  }
 },
 "nbformat": 4,
 "nbformat_minor": 2
}
