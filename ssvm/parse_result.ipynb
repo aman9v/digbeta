{
 "cells": [
  {
   "cell_type": "code",
   "execution_count": null,
   "metadata": {
    "collapsed": true
   },
   "outputs": [],
   "source": [
    "import numpy as np\n",
    "import pandas as pd\n",
    "import pickle as pkl\n",
    "import os"
   ]
  },
  {
   "cell_type": "code",
   "execution_count": null,
   "metadata": {
    "collapsed": true
   },
   "outputs": [],
   "source": [
    "#data_dir = 'data/data-new'\n",
    "#dat_suffix = ['Osak', 'Glas', 'Edin', 'Toro', 'Melb']"
   ]
  },
  {
   "cell_type": "code",
   "execution_count": null,
   "metadata": {
    "collapsed": true
   },
   "outputs": [],
   "source": [
    "algo = ['rand', 'pop', 'linreg', 'logreg', 'rank', 'logpwr', 'tranDP', 'tranILP', \\\n",
    "        'ssvm-viterbi', 'ssvm-listViterbi', 'memm']\n",
    "algo_name = ['Random', 'Popularity', 'POILocationPrediction', 'POIOccurrencePrediction', 'RankSVM', 'RankLogistic', \\\n",
    "             'Markov', 'MarkovPath', 'SSVMViterbi', 'SSVMListViterbi', 'MEMM']\n",
    "metric_name = ['F$_1$', 'pairs-F$_1$', '$\\\\tau$']"
   ]
  },
  {
   "cell_type": "markdown",
   "metadata": {},
   "source": [
    "```dat_ix``` is required in notebook ```shared.ipynb```."
   ]
  },
  {
   "cell_type": "code",
   "execution_count": null,
   "metadata": {
    "collapsed": true
   },
   "outputs": [],
   "source": [
    "dat_ix = 0"
   ]
  },
  {
   "cell_type": "markdown",
   "metadata": {},
   "source": [
    "Run notebook ```shared.ipynb```."
   ]
  },
  {
   "cell_type": "code",
   "execution_count": null,
   "metadata": {
    "collapsed": false
   },
   "outputs": [],
   "source": [
    "%run 'shared.ipynb'"
   ]
  },
  {
   "cell_type": "markdown",
   "metadata": {},
   "source": [
    "Construct file names."
   ]
  },
  {
   "cell_type": "code",
   "execution_count": null,
   "metadata": {
    "collapsed": true
   },
   "outputs": [],
   "source": [
    "def build_fnames(dat_ix):\n",
    "    fnames = []\n",
    "    for a in algo:\n",
    "        fnames.append(os.path.join(data_dir, a + '-' + dat_suffix[dat_ix] + '.pkl'))\n",
    "    return fnames        "
   ]
  },
  {
   "cell_type": "code",
   "execution_count": null,
   "metadata": {
    "collapsed": false
   },
   "outputs": [],
   "source": [
    "fnames = build_fnames(dat_ix)\n",
    "fnames"
   ]
  },
  {
   "cell_type": "markdown",
   "metadata": {},
   "source": [
    "Compute evaluation metrics."
   ]
  },
  {
   "cell_type": "code",
   "execution_count": null,
   "metadata": {
    "collapsed": true
   },
   "outputs": [],
   "source": [
    "def calc_metrics(fnames):\n",
    "    assert(len(fnames) == len(algo))\n",
    "    recdicts = []\n",
    "    for f in fnames:\n",
    "        recdicts.append(pkl.load(open(f, 'rb')))\n",
    "    \n",
    "    keys = set(recdicts[0].keys())\n",
    "    print(len(keys))\n",
    "    for d in recdicts[1:]:\n",
    "        keys = keys & set(d.keys())\n",
    "        print(len(d.keys()))\n",
    "    print('#Records:', len(keys))\n",
    "    \n",
    "    meanvs = np.zeros((len(algo), 3), dtype=np.float)\n",
    "    stderr = np.zeros((len(algo), 3), dtype=np.float)\n",
    "    \n",
    "    for j in range(len(recdicts)):\n",
    "        d = recdicts[j]\n",
    "        F1_all = []; pF1_all = []; Tau_all = []\n",
    "        for q in keys:\n",
    "            F1, pF1, tau = evaluate(d[q]['PRED'], TRAJ_GROUP_DICT[q])\n",
    "            F1_all.append(F1); pF1_all.append(pF1); Tau_all.append(tau)\n",
    "        meanvs[j, 0] = np.mean(F1_all)\n",
    "        meanvs[j, 1] = np.mean(pF1_all)\n",
    "        meanvs[j, 2] = np.mean(Tau_all)\n",
    "        stderr[j, 0] = np.std(F1_all) / np.sqrt(len(F1_all))\n",
    "        stderr[j, 1] = np.std(pF1_all) / np.sqrt(len(pF1_all))\n",
    "        stderr[j, 2] = np.std(Tau_all) / np.sqrt(len(Tau_all))\n",
    "    return meanvs, stderr"
   ]
  },
  {
   "cell_type": "code",
   "execution_count": null,
   "metadata": {
    "collapsed": false
   },
   "outputs": [],
   "source": [
    "meanvs, stderr = calc_metrics(fnames)"
   ]
  },
  {
   "cell_type": "code",
   "execution_count": null,
   "metadata": {
    "collapsed": false
   },
   "outputs": [],
   "source": [
    "#meanvs"
   ]
  },
  {
   "cell_type": "markdown",
   "metadata": {},
   "source": [
    "Generate LaTeX table."
   ]
  },
  {
   "cell_type": "code",
   "execution_count": null,
   "metadata": {
    "collapsed": true
   },
   "outputs": [],
   "source": [
    "def gen_latex(meanvs, stderr, title, label):\n",
    "    assert(meanvs.shape == stderr.shape)\n",
    "    assert(meanvs.shape == (len(algo), 3))\n",
    "    \n",
    "    max_1st = np.zeros(len(metric_name), dtype=np.int)\n",
    "    max_2nd = np.zeros(len(metric_name), dtype=np.int)\n",
    "    \n",
    "    for j in range(meanvs.shape[1]):\n",
    "        max_2nd[j], max_1st[j] = np.argsort(meanvs[:, j])[-2:]\n",
    "    \n",
    "    strs = []\n",
    "    strs.append('\\\\begin{table*}[t]\\n')\n",
    "    strs.append('\\\\caption{' + title + '}\\n')\n",
    "    strs.append('\\\\label{' + label + '}\\n')\n",
    "    strs.append('\\\\centering\\n')\n",
    "    strs.append('\\\\begin{tabular}{l|' + (meanvs.shape[1])*'c' + '} \\\\hline\\n')\n",
    "    for j in range(meanvs.shape[1]):\n",
    "        strs.append(' & ' + metric_name[j])\n",
    "    strs.append(' \\\\\\\\ \\\\hline\\n')\n",
    "    for i in range(meanvs.shape[0]):\n",
    "        strs.append(algo_name[i] + ' ')\n",
    "        for j in range(meanvs.shape[1]):\n",
    "            strs.append('& $')\n",
    "            if i == max_1st[j]: strs.append('\\\\mathbf{')\n",
    "            if i == max_2nd[j]: strs.append('\\\\mathit{')\n",
    "            strs.append('%.3f' % meanvs[i, j] + '\\\\pm' + '%.3f' % stderr[i, j])\n",
    "            if i in [max_1st[j], max_2nd[j]]: strs.append('}')\n",
    "            strs.append('$ ')\n",
    "        strs.append('\\\\\\\\\\n')\n",
    "    strs.append('\\\\hline\\n')\n",
    "    strs.append('\\\\end{tabular}\\n')\n",
    "    strs.append('\\\\end{table*}\\n')\n",
    "    return ''.join(strs)    "
   ]
  },
  {
   "cell_type": "code",
   "execution_count": null,
   "metadata": {
    "collapsed": false
   },
   "outputs": [],
   "source": [
    "strs = gen_latex(meanvs, stderr, 'Performance', 'tab:performance')\n",
    "print(strs)"
   ]
  }
 ],
 "metadata": {
  "kernelspec": {
   "display_name": "Python [default]",
   "language": "python",
   "name": "python3"
  },
  "language_info": {
   "codemirror_mode": {
    "name": "ipython",
    "version": 3
   },
   "file_extension": ".py",
   "mimetype": "text/x-python",
   "name": "python",
   "nbconvert_exporter": "python",
   "pygments_lexer": "ipython3",
   "version": "3.5.2"
  }
 },
 "nbformat": 4,
 "nbformat_minor": 2
}
